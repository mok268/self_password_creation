{
 "cells": [
  {
   "cell_type": "markdown",
   "id": "ba619ec4",
   "metadata": {},
   "source": [
    "### Self Password Creation code\n",
    "#### Solution 1"
   ]
  },
  {
   "cell_type": "code",
   "execution_count": 10,
   "id": "5a19084f",
   "metadata": {},
   "outputs": [
    {
     "name": "stdout",
     "output_type": "stream",
     "text": [
      "Enter your name here : Piyush mokadam\n",
      "Enter Your date of birth here :02\\01]1983\n",
      "Piyush mokadam\n",
      "02\\01]1983\n",
      "The password created is :  Piy_mad_1983\n"
     ]
    }
   ],
   "source": [
    "Name=input(\"Enter your name here : \")\n",
    "DOB=input(\"Enter Your date of birth here :\")\n",
    "print(Name)\n",
    "print(DOB)\n",
    "print(\"The password created is : \",Name[0:3]+'_'+Name[-1:-4:-1]+'_'+DOB[-4:])"
   ]
  },
  {
   "cell_type": "markdown",
   "id": "a959f8c3",
   "metadata": {
    "scrolled": true
   },
   "source": [
    "#### Solution 2"
   ]
  },
  {
   "cell_type": "code",
   "execution_count": null,
   "id": "a62854ae",
   "metadata": {},
   "outputs": [],
   "source": [
    "Name=input(\"Enter your name here : \")\n",
    "DOB=input(\"Enter Your daye of birth here :\")\n",
    "print(Name)\n",
    "print(DOB)\n",
    "print('The Lenght of the name is :',len(Name),'The Lenght of the name is :',len(DOB))\n",
    "#Checking th char lenght of the name\n",
    "if len(Name)<3:\n",
    "    print(\"The characters in your length is less than 3\")\n",
    "else:\n",
    "    print(\"The password created is : \",Name[0:3]+'_'+Name[-1:-4:-1]+'_'+DOB[-4:])"
   ]
  }
 ],
 "metadata": {
  "kernelspec": {
   "display_name": "Python 3",
   "language": "python",
   "name": "python3"
  },
  "language_info": {
   "codemirror_mode": {
    "name": "ipython",
    "version": 3
   },
   "file_extension": ".py",
   "mimetype": "text/x-python",
   "name": "python",
   "nbconvert_exporter": "python",
   "pygments_lexer": "ipython3",
   "version": "3.8.8"
  },
  "toc": {
   "base_numbering": 1,
   "nav_menu": {},
   "number_sections": false,
   "sideBar": false,
   "skip_h1_title": false,
   "title_cell": "Table of Contents",
   "title_sidebar": "Contents",
   "toc_cell": false,
   "toc_position": {},
   "toc_section_display": false,
   "toc_window_display": false
  }
 },
 "nbformat": 4,
 "nbformat_minor": 5
}
